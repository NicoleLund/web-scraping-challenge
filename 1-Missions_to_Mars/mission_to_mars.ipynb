{
 "metadata": {
  "language_info": {
   "codemirror_mode": {
    "name": "ipython",
    "version": 3
   },
   "file_extension": ".py",
   "mimetype": "text/x-python",
   "name": "python",
   "nbconvert_exporter": "python",
   "pygments_lexer": "ipython3",
   "version": "3.7.9"
  },
  "orig_nbformat": 2,
  "kernelspec": {
   "name": "python3",
   "display_name": "Python 3.7.9 64-bit ('PythonData': conda)"
  },
  "interpreter": {
   "hash": "972b5e8961cf972370136eb15a5ce67c848ddf5ca1c37bd5b3d0153e753bc276"
  }
 },
 "nbformat": 4,
 "nbformat_minor": 2,
 "cells": [
  {
   "source": [
    "# mission_to_mars\n",
    "----\n",
    "\n",
    "Written in the Python 3.7.9 Environment\n",
    "\n",
    "By Nicole Lund \n",
    "\n",
    "This Jupyter Notebook scrapes Mars space data from various locations for storage in a Pymongo DB and display on a webpage."
   ],
   "cell_type": "markdown",
   "metadata": {}
  },
  {
   "cell_type": "code",
   "execution_count": 1,
   "metadata": {},
   "outputs": [],
   "source": [
    "# Import Dependencies\n",
    "import pandas as pd \n",
    "import time\n",
    "from splinter import Browser\n",
    "from bs4 import BeautifulSoup\n",
    "from webdriver_manager.chrome import ChromeDriverManager"
   ]
  },
  {
   "cell_type": "code",
   "execution_count": 2,
   "metadata": {},
   "outputs": [
    {
     "output_type": "stream",
     "name": "stderr",
     "text": [
      "\n",
      "\n",
      "====== WebDriver manager ======\n",
      "Current google-chrome version is 91.0.4472\n",
      "Get LATEST driver version for 91.0.4472\n",
      "Driver [C:\\Users\\nlund\\.wdm\\drivers\\chromedriver\\win32\\91.0.4472.101\\chromedriver.exe] found in cache\n"
     ]
    }
   ],
   "source": [
    "# Setup splinter\n",
    "executable_path = {'executable_path': ChromeDriverManager().install()}\n",
    "browser = Browser('chrome', **executable_path, headless=False)"
   ]
  },
  {
   "source": [
    "# NASA Mars News\n",
    "\n",
    "* Scrape the [NASA Mars News Site](https://mars.nasa.gov/news/) and collect the latest News Title and Paragraph Text."
   ],
   "cell_type": "markdown",
   "metadata": {}
  },
  {
   "cell_type": "code",
   "execution_count": 4,
   "metadata": {},
   "outputs": [],
   "source": [
    "# Access NASA news site\n",
    "nasa_url = 'https://mars.nasa.gov/news/'\n",
    "browser.visit(nasa_url)\n",
    "nasa_html = browser.html\n",
    "nasa_soup = BeautifulSoup(nasa_html, 'html.parser')\n",
    "\n",
    "# Allow webpage to load fully\n",
    "time.sleep(1.5)"
   ]
  },
  {
   "cell_type": "code",
   "execution_count": 5,
   "metadata": {},
   "outputs": [],
   "source": [
    "# Collect the latest news headline and paragraph\n",
    "latest_container = nasa_soup.find('div', class_='image_and_description_container')\n",
    "\n",
    "# Results\n",
    "news_headline = latest_container.find('div', class_='content_title').find('a').text\n",
    "\n",
    "news_teaser = latest_container.find('div', class_='article_teaser_body').text"
   ]
  },
  {
   "cell_type": "code",
   "execution_count": 6,
   "metadata": {},
   "outputs": [
    {
     "output_type": "stream",
     "name": "stdout",
     "text": [
      "NASA's Perseverance Rover Begins Its First Science Campaign on Mars\n-------------------\nThe six-wheeled scientist is heading south to explore Jezero Crater’s lakebed in search of signs of ancient microbial life.\n"
     ]
    }
   ],
   "source": [
    "print(news_headline)\n",
    "print('-------------------')\n",
    "print(news_teaser)"
   ]
  },
  {
   "source": [
    "# JPL Mars Space Images - Featured Image\n",
    "\n",
    "* Scrape the [JPL Featured Space Image Website](https://data-class-jpl-space.s3.amazonaws.com/JPL_Space/index.html) for the complete url string of the full size .jpg Featured Mars Image."
   ],
   "cell_type": "markdown",
   "metadata": {}
  },
  {
   "cell_type": "code",
   "execution_count": 7,
   "metadata": {},
   "outputs": [],
   "source": [
    "# Access JPL image site\n",
    "jpl_base_url = 'https://data-class-jpl-space.s3.amazonaws.com/JPL_Space/'\n",
    "jpl_url = jpl_base_url + 'index.html'\n",
    "browser.visit(jpl_url)\n",
    "jpl_html = browser.html\n",
    "jpl_soup = BeautifulSoup(jpl_html, 'html.parser')\n",
    "\n",
    "# Allow webpage to load fully - Has not been necessary\n",
    "# time.sleep(1)"
   ]
  },
  {
   "cell_type": "code",
   "execution_count": 8,
   "metadata": {},
   "outputs": [],
   "source": [
    "# Collect the full url path for the full size featured image\n",
    "featured = jpl_soup.find('div', class_='floating_text_area')\n",
    "jpl_relative_url = featured.find('a')['href']\n",
    "\n",
    "# Result\n",
    "featured_image_url = jpl_base_url + jpl_relative_url"
   ]
  },
  {
   "cell_type": "code",
   "execution_count": 9,
   "metadata": {},
   "outputs": [
    {
     "output_type": "stream",
     "name": "stdout",
     "text": [
      "https://data-class-jpl-space.s3.amazonaws.com/JPL_Space/image/featured/mars3.jpg\n"
     ]
    }
   ],
   "source": [
    "print(featured_image_url)"
   ]
  },
  {
   "source": [
    "# Mars Facts\n",
    "\n",
    "* Use Pandas to scrape the table containing facts about the planet from [Mars Facts webpage](https://space-facts.com/mars/) then convert the data to a HTML table string."
   ],
   "cell_type": "markdown",
   "metadata": {}
  },
  {
   "cell_type": "code",
   "execution_count": 10,
   "metadata": {},
   "outputs": [
    {
     "output_type": "execute_result",
     "data": {
      "text/plain": [
       "'<table border=\"0\" class=\"dataframe\">\\n  <tbody>\\n    <tr>\\n      <td>Equatorial Diameter:</td>\\n      <td>6,792 km</td>\\n    </tr>\\n    <tr>\\n      <td>Polar Diameter:</td>\\n      <td>6,752 km</td>\\n    </tr>\\n    <tr>\\n      <td>Mass:</td>\\n      <td>6.39 × 10^23 kg (0.11 Earths)</td>\\n    </tr>\\n    <tr>\\n      <td>Moons:</td>\\n      <td>2 (Phobos &amp; Deimos)</td>\\n    </tr>\\n    <tr>\\n      <td>Orbit Distance:</td>\\n      <td>227,943,824 km (1.38 AU)</td>\\n    </tr>\\n    <tr>\\n      <td>Orbit Period:</td>\\n      <td>687 days (1.9 years)</td>\\n    </tr>\\n    <tr>\\n      <td>Surface Temperature:</td>\\n      <td>-87 to -5 °C</td>\\n    </tr>\\n    <tr>\\n      <td>First Record:</td>\\n      <td>2nd millennium BC</td>\\n    </tr>\\n    <tr>\\n      <td>Recorded By:</td>\\n      <td>Egyptian astronomers</td>\\n    </tr>\\n  </tbody>\\n</table>'"
      ]
     },
     "metadata": {},
     "execution_count": 10
    }
   ],
   "source": [
    "# Collect Mars Facts Table\n",
    "facts_url = 'https://space-facts.com/mars/'\n",
    "facts_df = pd.read_html(facts_url)[0]\n",
    "\n",
    "# Convert facts table to html string\n",
    "facts_html = facts_df.to_html(justify='left',border=0,header=False,index=False)\n",
    "facts_html"
   ]
  },
  {
   "cell_type": "code",
   "execution_count": 11,
   "metadata": {},
   "outputs": [
    {
     "output_type": "execute_result",
     "data": {
      "text/plain": [
       "                                              Value\n",
       "Description                                        \n",
       "Equatorial Diameter:                       6,792 km\n",
       "Polar Diameter:                            6,752 km\n",
       "Mass:                 6.39 × 10^23 kg (0.11 Earths)\n",
       "Moons:                          2 (Phobos & Deimos)\n",
       "Orbit Distance:            227,943,824 km (1.38 AU)\n",
       "Orbit Period:                  687 days (1.9 years)\n",
       "Surface Temperature:                   -87 to -5 °C\n",
       "First Record:                     2nd millennium BC\n",
       "Recorded By:                   Egyptian astronomers"
      ],
      "text/html": "<div>\n<style scoped>\n    .dataframe tbody tr th:only-of-type {\n        vertical-align: middle;\n    }\n\n    .dataframe tbody tr th {\n        vertical-align: top;\n    }\n\n    .dataframe thead th {\n        text-align: right;\n    }\n</style>\n<table border=\"1\" class=\"dataframe\">\n  <thead>\n    <tr style=\"text-align: right;\">\n      <th></th>\n      <th>Value</th>\n    </tr>\n    <tr>\n      <th>Description</th>\n      <th></th>\n    </tr>\n  </thead>\n  <tbody>\n    <tr>\n      <th>Equatorial Diameter:</th>\n      <td>6,792 km</td>\n    </tr>\n    <tr>\n      <th>Polar Diameter:</th>\n      <td>6,752 km</td>\n    </tr>\n    <tr>\n      <th>Mass:</th>\n      <td>6.39 × 10^23 kg (0.11 Earths)</td>\n    </tr>\n    <tr>\n      <th>Moons:</th>\n      <td>2 (Phobos &amp; Deimos)</td>\n    </tr>\n    <tr>\n      <th>Orbit Distance:</th>\n      <td>227,943,824 km (1.38 AU)</td>\n    </tr>\n    <tr>\n      <th>Orbit Period:</th>\n      <td>687 days (1.9 years)</td>\n    </tr>\n    <tr>\n      <th>Surface Temperature:</th>\n      <td>-87 to -5 °C</td>\n    </tr>\n    <tr>\n      <th>First Record:</th>\n      <td>2nd millennium BC</td>\n    </tr>\n    <tr>\n      <th>Recorded By:</th>\n      <td>Egyptian astronomers</td>\n    </tr>\n  </tbody>\n</table>\n</div>"
     },
     "metadata": {},
     "execution_count": 11
    }
   ],
   "source": [
    "# Clean up table for Jupyter Notebook Display\n",
    "facts_df = facts_df.rename(columns={0:'Description',1:'Value'})\n",
    "facts_df = facts_df.set_index('Description')\n",
    "facts_df"
   ]
  },
  {
   "source": [
    "# Mars Hemispheres\n",
    "\n",
    "* Obtain full resolution images and image names for each of Mar's hemispheres from [USGS Astrogeology site](https://astrogeology.usgs.gov/search/results?q=hemisphere+enhanced&k1=target&v1=Mars) to a dictionary then store both dictionaries in a list."
   ],
   "cell_type": "markdown",
   "metadata": {}
  },
  {
   "cell_type": "code",
   "execution_count": 12,
   "metadata": {},
   "outputs": [],
   "source": [
    "# Access Astrogeology site\n",
    "astropedia_base_url = 'https://astrogeology.usgs.gov'\n",
    "astropedia_relative_url = '/search/results?q=hemisphere+enhanced&k1=target&v1=Mars'\n",
    "astropedia_url = astropedia_base_url + astropedia_relative_url\n",
    "browser.visit(astropedia_url)\n",
    "astropedia_html = browser.html\n",
    "astropedia_soup = BeautifulSoup(astropedia_html, 'html.parser')\n",
    "\n",
    "# Allow webpage to load fully - Has not been necessary\n",
    "# time.sleep(1)"
   ]
  },
  {
   "cell_type": "code",
   "execution_count": 13,
   "metadata": {},
   "outputs": [
    {
     "output_type": "stream",
     "name": "stdout",
     "text": [
      "Found Hemisphere: Cerberus Hemisphere Enhanced\nFound Hemisphere: Schiaparelli Hemisphere Enhanced\nFound Hemisphere: Syrtis Major Hemisphere Enhanced\nFound Hemisphere: Valles Marineris Hemisphere Enhanced\nAll Hemispheres Found\n"
     ]
    }
   ],
   "source": [
    "# Initialize image list\n",
    "hemisphere_titles = []\n",
    "\n",
    "# Find the hemisphere titles containers\n",
    "hemisphere_containers = astropedia_soup.find_all('div', class_='description')\n",
    "\n",
    "# Collect hemisphere titles\n",
    "for image_num in range(0,5):\n",
    "    try:\n",
    "        hemisphere_found = hemisphere_containers[image_num].h3.text\n",
    "        hemisphere_titles.append(hemisphere_found)\n",
    "        print(f'Found Hemisphere: {hemisphere_found}')\n",
    "    except:\n",
    "        print('All Hemispheres Found')\n",
    "\n",
    "# print('----------------')\n",
    "# print(hemisphere_titles)"
   ]
  },
  {
   "cell_type": "code",
   "execution_count": 14,
   "metadata": {},
   "outputs": [
    {
     "output_type": "execute_result",
     "data": {
      "text/plain": [
       "[{'title': 'Cerberus Hemisphere Enhanced',\n",
       "  'img_url': 'https://astrogeology.usgs.gov/cache/images/f5e372a36edfa389625da6d0cc25d905_cerberus_enhanced.tif_full.jpg'},\n",
       " {'title': 'Schiaparelli Hemisphere Enhanced',\n",
       "  'img_url': 'https://astrogeology.usgs.gov/cache/images/3778f7b43bbbc89d6e3cfabb3613ba93_schiaparelli_enhanced.tif_full.jpg'},\n",
       " {'title': 'Syrtis Major Hemisphere Enhanced',\n",
       "  'img_url': 'https://astrogeology.usgs.gov/cache/images/555e6403a6ddd7ba16ddb0e471cadcf7_syrtis_major_enhanced.tif_full.jpg'},\n",
       " {'title': 'Valles Marineris Hemisphere Enhanced',\n",
       "  'img_url': 'https://astrogeology.usgs.gov/cache/images/b3c7c6c9138f57b4756be9b9c43e3a48_valles_marineris_enhanced.tif_full.jpg'}]"
      ]
     },
     "metadata": {},
     "execution_count": 14
    }
   ],
   "source": [
    "# Navigate to each hemisphere link and collect image link and title in a dictionary\n",
    "hemisphere_image_urls = []\n",
    "\n",
    "for hemisphere in hemisphere_titles:\n",
    "    # Navigate to each hemisphere link\n",
    "    browser.links.find_by_partial_text(hemisphere).click()\n",
    "\n",
    "    # Collect URL for full size image\n",
    "    hemisphere_html = browser.html\n",
    "    hemisphere_soup = BeautifulSoup(hemisphere_html, 'html.parser')\n",
    "\n",
    "    # Allow webpage to load fully - Has not been necessary\n",
    "    # time.sleep(1)\n",
    "\n",
    "    hemisphere_image = hemisphere_soup.find('img', class_='wide-image')['src']\n",
    "    image_link = astropedia_base_url + hemisphere_image\n",
    "    hemisphere_image_urls.append(\\\n",
    "                    {\"title\":hemisphere,\"img_url\":image_link})\n",
    "\n",
    "    # Return to main page\n",
    "    browser.visit(astropedia_url)\n",
    "\n",
    "hemisphere_image_urls"
   ]
  },
  {
   "cell_type": "code",
   "execution_count": 15,
   "metadata": {},
   "outputs": [],
   "source": [
    "browser.quit()"
   ]
  },
  {
   "cell_type": "code",
   "execution_count": null,
   "metadata": {},
   "outputs": [],
   "source": []
  }
 ]
}